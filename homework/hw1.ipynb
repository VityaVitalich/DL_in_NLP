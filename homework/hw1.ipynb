{
 "cells": [
  {
   "cell_type": "markdown",
   "metadata": {
    "id": "IQwlunyE86kE"
   },
   "source": [
    "# 1. Практическое задание. Обучение полносвязной нейронной сети.\n",
    "\n",
    "**ФИО**: ВАШЕ ФИО\n",
    "\n",
    "### Большая просьба\n",
    "\n",
    "Называйте файл hw1_Фамилия.ipynb"
   ]
  },
  {
   "cell_type": "code",
   "execution_count": 1,
   "metadata": {
    "id": "UyCGfNgA86kF"
   },
   "outputs": [],
   "source": [
    "import numpy as np\n",
    "import torch\n",
    "import cv2\n",
    "\n",
    "from glob import glob\n",
    "from collections import OrderedDict\n",
    "from matplotlib import pyplot as plt\n",
    "\n",
    "from torch import nn\n",
    "from torch.autograd import Function\n",
    "from torch.autograd import gradcheck\n",
    "from torch.optim import Optimizer, Adam\n",
    "from torch.utils.data import Dataset, DataLoader\n",
    "from torchvision import datasets\n",
    "from torchvision import transforms"
   ]
  },
  {
   "cell_type": "markdown",
   "metadata": {
    "id": "uFaWrLT4GkfY"
   },
   "source": [
    "## 1. Загрузка данных (2 балла)"
   ]
  },
  {
   "cell_type": "markdown",
   "metadata": {
    "id": "R930jTYMG6nB"
   },
   "source": [
    "Если вам требуется работать с каким-нибубь набором данных (dataset), то прежде всего проверьте нет ли его среди встроенных наборов данных https://pytorch.org/vision/stable/datasets.html.\n",
    "\n",
    "В текущем домашнем задании мы будем работать с набором данных FashionMNIST. Это не совсем про тексты, но зато он численный и его можно вытянуть в вектор. Это легко и полезно, чтобы отработать разные приемы. Он присутствует в списке встроенных наборов данных, однако мы воспользуемся реализацией только для удобного и быстрого способа скачать наборы данных. Ниже предлагается реализовать собственный класс для считывания, обработки и упаковки данных."
   ]
  },
  {
   "cell_type": "code",
   "execution_count": null,
   "metadata": {
    "colab": {
     "base_uri": "https://localhost:8080/",
     "height": 422,
     "referenced_widgets": [
      "5332626b0aa74f7ea94eb68088f5e7cb",
      "25c397bc7ced46af94e5dbf104997da9",
      "b3dfe18b5a82446a995148658057e453",
      "c73be1e35f7a40cebad168888e363608",
      "5655977cf3e945bd9c3d0c5527093c6a",
      "eff07159fdc44dfe9ef0f1a7903f9aca",
      "32998db33d104ea98b2cdb98add6240e",
      "4bbec0ef6fc74e27992a67194a9cb590",
      "7726fd927d8f457fa4c41529d37ba935",
      "42b6532156284f62bc5d01ad55f869a3",
      "f1ae8a46de67411abafdcf61a1771fff",
      "1aa2df69fe494e0a83055ee8bef4c5a5",
      "cd9b578c73ac42488ff9809845ec5ad9",
      "09f4c370cbab4527af52bc7307acd22f",
      "d6c807c60f714f0c9eb450ad6471415c",
      "c35705a99f6046f3b2e7d4da58c9dd8b",
      "70456b9d925a4f34a4cb0fe462fb1fdb",
      "aaf257ec2c9f4c6f8e3e13cd4b84b842",
      "6e9272ad1e874932bd97565c29e9a235",
      "26e4482c025f48e7a0afb1b1ba43b72e",
      "db272c9d867d432f88c1a6a30da780ae",
      "6372150abfb049e8a4bdf2d5d4874c2f",
      "be8602c27f1a41f3a3012f2d0f460870",
      "6594e038a3ff4375abc7dd9cd41c3877",
      "825d937a6d0c4ba7b5ba61f41b2b696a",
      "0de923fa5ea24c91951eeaa1fa3983bb",
      "a307d315300b4eb38d486169188519de",
      "bb324c8763734f878f15db6da9d63f99",
      "7dc147c7f1cf48198b5e045eb6e8875c",
      "25462a9b8018424fab4f2d161c9f6185",
      "fc034bebd3bd481abe0af10db29aa5df",
      "0c5754168cad4ab7a52d2d0e03042b4b",
      "67aef52f7658414d83892a892de891ed",
      "9bec8a71db474d72aaebf6964f5c7467",
      "5bf99ef9a3564a52b68e5a216612a36e",
      "5423d332e792479a9090c3901445d784",
      "ff41ac0f01aa40c58c9d4d9bd4ebb61e",
      "47770e8cc80b4634bf3849ea30a938bb",
      "6e3f7ff0ba5642f89f4651803ac49422",
      "08bfb51f04644665b7c4a8f34aaf11ed",
      "b10625e6b39f429899486b77493c4aa3",
      "49f052a7632247cba886cafce9ecba0a",
      "a4cb5b7f1937432580de1a75c34ae6cb",
      "9e66f8defa1e4e78878921fd778a215f"
     ]
    },
    "id": "LauGpMvGF5qr",
    "outputId": "95f958de-706e-45b4-e365-5044d5466cf0"
   },
   "outputs": [],
   "source": [
    "training_data = datasets.FashionMNIST(\n",
    "    root=\"data\",\n",
    "    train=True,\n",
    "    download=True\n",
    ")\n",
    "\n",
    "test_data = datasets.FashionMNIST(\n",
    "    root=\"data\",\n",
    "    train=False,\n",
    "    download=True\n",
    ")"
   ]
  },
  {
   "cell_type": "markdown",
   "metadata": {
    "id": "RIT32OCMaLLP"
   },
   "source": [
    "Воспользуемся функцией загрузки данных из репозитория наборов данных."
   ]
  },
  {
   "cell_type": "code",
   "execution_count": null,
   "metadata": {
    "colab": {
     "base_uri": "https://localhost:8080/"
    },
    "id": "Fm_cf_hEIapm",
    "outputId": "b49dac09-abb4-4546-9998-8479b6e859f7"
   },
   "outputs": [],
   "source": [
    "! ls data/FashionMNIST/raw"
   ]
  },
  {
   "cell_type": "code",
   "execution_count": 4,
   "metadata": {
    "id": "-xnY5xk1KBg2"
   },
   "outputs": [],
   "source": [
    "#https://github.com/zalandoresearch/fashion-mnist/blob/master/utils/mnist_reader.py\n",
    "\n",
    "def load_mnist(path, kind='train'):\n",
    "    import os\n",
    "    import gzip\n",
    "    import numpy as np\n",
    "\n",
    "    \"\"\"Load MNIST data from `path`\"\"\"\n",
    "    labels_path = os.path.join(path,\n",
    "                               '%s-labels-idx1-ubyte.gz'\n",
    "                               % kind)\n",
    "    images_path = os.path.join(path,\n",
    "                               '%s-images-idx3-ubyte.gz'\n",
    "                               % kind)\n",
    "\n",
    "    with gzip.open(labels_path, 'rb') as lbpath:\n",
    "        labels = np.frombuffer(lbpath.read(), dtype=np.uint8,\n",
    "                               offset=8)\n",
    "\n",
    "    with gzip.open(images_path, 'rb') as imgpath:\n",
    "        images = np.frombuffer(imgpath.read(), dtype=np.uint8,\n",
    "                               offset=16).reshape(len(labels), 784)\n",
    "\n",
    "    return images, labels"
   ]
  },
  {
   "cell_type": "markdown",
   "metadata": {
    "id": "qHIlWRV0aZnA"
   },
   "source": [
    "Для удобства PyTorch предоставляет ряд базовых классов `Dataset, DataLoader`, от которых предлагается отнаследоваться при разработке пользовательских классов. Базовый класс `Dataset` используется для загрузки и обработки данных, класс `DataLoader` используется для управления процессом загрузки данных, позволяет в многопоточном режиме загружать данные и упаковывать их.\n",
    "Эти вспомогательные классы находятся в модуле `torch.utils.data`. \n",
    "\n",
    "При наследовании от класса `torch.utils.data.Dataset` требуется переопределить метод `__len__`, который возвращает количество примеров в наборе данных, а также метод `__getitem__`, который позволяет получить доступ к примеру из набора данных по индексу."
   ]
  },
  {
   "cell_type": "markdown",
   "metadata": {
    "id": "3jf2e5cPbJV2"
   },
   "source": [
    "Реализуем класс для FasionMnist.\n",
    "\n",
    "Элементами датасета должны являться пары '(np.array, int)', массив имеет размерность `(28, 28)`, тип элемента `np.float32`."
   ]
  },
  {
   "cell_type": "code",
   "execution_count": null,
   "metadata": {
    "id": "snTBHRTQI1bc"
   },
   "outputs": [],
   "source": [
    "import os\n",
    "\n",
    "class FashionMnist(Dataset):\n",
    "    def __init__(self, path, train=True, image_transform=None, \n",
    "                 label_transform=None):\n",
    "\n",
    "        ### YOUR CODE HERE\n",
    "        ### LOAD IMAGES AND LABELS WITH FUNCTION\n",
    "        ...\n",
    "\n",
    "\n",
    "        ### ALSO PROVIDE TRANSFORMS TO APPLY\n",
    "        self.image_transform = \n",
    "        self.label_transform = \n",
    "\n",
    "\n",
    "    def __len__(self,):\n",
    "        \n",
    "        ### YOUR CODE\n",
    "        # RETURN LENGTH OF DATASET\n",
    "\n",
    "\n",
    "    def __getitem__(self, idx):\n",
    "        \n",
    "\n",
    "        ### YOUR CODE HERE\n",
    "        ### APPLY TRANSFORMS AND RETURN ELEMENTS\n",
    "\n"
   ]
  },
  {
   "cell_type": "code",
   "execution_count": 6,
   "metadata": {
    "id": "XVGv_2zBNfpz"
   },
   "outputs": [],
   "source": [
    "test_dataset = FashionMnist(\"data/FashionMNIST\", train=False)\n",
    "train_dataset = FashionMnist(\"data/FashionMNIST\")"
   ]
  },
  {
   "cell_type": "markdown",
   "metadata": {
    "id": "JciETIfndiGR"
   },
   "source": [
    "Визуализируйте случайные элементы набора данных."
   ]
  },
  {
   "cell_type": "code",
   "execution_count": null,
   "metadata": {
    "colab": {
     "base_uri": "https://localhost:8080/",
     "height": 282
    },
    "id": "wBky4UtmOS71",
    "outputId": "2b86759c-cc8f-4873-9b81-e58ff279d0f0"
   },
   "outputs": [],
   "source": [
    "### YOUR CODE HERE"
   ]
  },
  {
   "cell_type": "markdown",
   "metadata": {
    "id": "320RvzL7PZrI"
   },
   "source": [
    "В конструктор `Dataset` можно передать объект `torchvision.transforms`, который позволяет преобразовать исходные данные. Преобразование `torchvision.transforms.ToTensor` позволяет преобразоать данные из типа `PIL Image` и `numpy.float32` в тип `torch.float32`\n",
    "\n",
    "Реализуйте собственную поддержку преобразований в `FashionMnist`. Проверьте, что приведение типов работает корректно. "
   ]
  },
  {
   "cell_type": "code",
   "execution_count": 8,
   "metadata": {
    "id": "pQsGbfXUTxcx"
   },
   "outputs": [],
   "source": [
    "class ToTensor:\n",
    "    \"\"\"Convert ndarrays in sample to Tensors.\"\"\"\n",
    "\n",
    "    def __call__(self, sample):\n",
    "        ### YOUR CODE HERE\n",
    "\n",
    "\n",
    "# SHOULD BE CALLABLE ToTensor(x)"
   ]
  },
  {
   "cell_type": "code",
   "execution_count": 9,
   "metadata": {
    "id": "7BpFQ_Y2PoeI"
   },
   "outputs": [],
   "source": [
    "transform = ToTensor()\n",
    "\n",
    "### YOUR CODE HERE\n",
    "# init dataset with your transform and check datatype\n"
   ]
  },
  {
   "cell_type": "markdown",
   "metadata": {
    "id": "5Ltavx0QUMnm"
   },
   "source": [
    "Элементы набора данных могут быть объединены в пакеты (batch) явно и неявно. Если данные могут быть сконкатенированы или обЪединены каким-нибудь тривиальным способом, то можно не передавать никаких дополнительных парамертов в `torch.utils.data.Dataloader`."
   ]
  },
  {
   "cell_type": "code",
   "execution_count": 11,
   "metadata": {
    "id": "Cizxx6m0VAI7"
   },
   "outputs": [],
   "source": [
    "test_dataloader = DataLoader(test_dataset, batch_size=15, num_workers=2, shuffle=True)\n",
    "batch = next(iter(test_dataloader))"
   ]
  },
  {
   "cell_type": "code",
   "execution_count": null,
   "metadata": {
    "colab": {
     "base_uri": "https://localhost:8080/"
    },
    "id": "SIZiPrBgVwGA",
    "outputId": "39498bf5-3d49-4691-9f94-69665bf61a51"
   },
   "outputs": [],
   "source": [
    "print(f\"The length of the batch is {len(batch)}\")\n",
    "print(f\"The shape of the batch[0] is {batch[0].shape}\")"
   ]
  },
  {
   "cell_type": "markdown",
   "metadata": {
    "id": "BCggRyOQWVIx"
   },
   "source": [
    "Однако, если наша структура данных не позволяет нам использовать объединение по умолчанию, то можно написать собственную функцию, которая будет пакетировать данные. \n",
    "\n",
    "Реализуйте функцию, преобразующую последовательность элементов массива в пакет (batch)."
   ]
  },
  {
   "cell_type": "code",
   "execution_count": 13,
   "metadata": {
    "id": "nQVh93fmWSjA"
   },
   "outputs": [],
   "source": [
    "### YOUR CODE HERE\n",
    "### WRITE A COLLATE FUNCTION and use it with dataloaders"
   ]
  },
  {
   "cell_type": "markdown",
   "metadata": {
    "id": "Wij6F-vpe7KS"
   },
   "source": [
    "Убедитесть, что все работает корректно. "
   ]
  },
  {
   "cell_type": "code",
   "execution_count": 14,
   "metadata": {
    "id": "4dDtlvlCXNbW"
   },
   "outputs": [],
   "source": [
    "test_dataloader = ### YOUR CODE HERE\n",
    "train_dataloader = ### YOUR CODE HERE\n",
    "batch = next(iter(test_dataloader))"
   ]
  },
  {
   "cell_type": "code",
   "execution_count": null,
   "metadata": {
    "colab": {
     "base_uri": "https://localhost:8080/"
    },
    "id": "PFN00IyZXYaF",
    "outputId": "5a88decb-56ec-46eb-a404-768d6c5c7e39"
   },
   "outputs": [],
   "source": [
    "print(f\"The length of the batch is {len(batch)}\")\n",
    "print(f\"The shape of the batch[0] is {batch[0].shape}\")"
   ]
  },
  {
   "cell_type": "markdown",
   "metadata": {
    "id": "VHcumwuF86kL"
   },
   "source": [
    "## 2. Реализация модулей нейронной сети (3 балла)\n",
    "\n",
    "В этом разделе мы полностью реализуем модули для полносвязанной сети. \n",
    "\n",
    "Для начала нам понадобится реализовать прямой и обратный проход через слои. \n",
    "\n",
    "Наши слои будут соответствовать следующему интерфейсу (на примере \"тождественного\" слоя):"
   ]
  },
  {
   "cell_type": "markdown",
   "metadata": {
    "id": "zzhCW5HcfmKd"
   },
   "source": [
    "Сначала, мы реализуем функцию и её градиент. "
   ]
  },
  {
   "cell_type": "code",
   "execution_count": 7,
   "metadata": {
    "id": "rcqeFXxsFGQO"
   },
   "outputs": [],
   "source": [
    "class IdentityFunction(Function):\n",
    "    \"\"\"\n",
    "    We can implement our own custom autograd Functions by subclassing\n",
    "    torch.autograd.Function and implementing the forward and backward passes\n",
    "    which operate on Tensors.\n",
    "    \"\"\"\n",
    "    @staticmethod\n",
    "    def forward(ctx, input):\n",
    "        \"\"\"\n",
    "        In the forward pass we receive a Tensor containing the input and return\n",
    "        a Tensor containing the output. ctx is a context object that can be used\n",
    "        to stash information for backward computation. You can cache arbitrary\n",
    "        objects for use in the backward pass using the ctx.save_for_backward method.\n",
    "        \"\"\"\n",
    "        return input\n",
    "\n",
    "    @staticmethod\n",
    "    def backward(ctx, grad_output):\n",
    "        \"\"\"\n",
    "        In the backward pass we receive a Tensor containing the gradient of the loss\n",
    "        with respect to the output, and we need to compute the gradient of the loss\n",
    "        with respect to the input.\n",
    "        \"\"\"\n",
    "        return grad_output"
   ]
  },
  {
   "cell_type": "markdown",
   "metadata": {
    "id": "jc6Rtczffxv4"
   },
   "source": [
    "Разработанную функцию обернем классом `IdentityLayer`, все слои в `PyTorch` должны быть наследниками базового класса `nn.Module()`\n"
   ]
  },
  {
   "cell_type": "code",
   "execution_count": 8,
   "metadata": {
    "id": "SiqeRVcM86kM"
   },
   "outputs": [],
   "source": [
    "class IdentityLayer(nn.Module):\n",
    "    def __init__(self):\n",
    "        # An identity layer does nothing\n",
    "        super().__init__()\n",
    "        self.identity = IdentityFunction.apply\n",
    "    \n",
    "    def forward(self, inp):\n",
    "        # An identity layer just returns whatever it gets as input.\n",
    "        return self.identity(inp)"
   ]
  },
  {
   "cell_type": "markdown",
   "metadata": {
    "id": "N4IoM_pX86kQ"
   },
   "source": [
    "\n",
    "### 2.1 Функция активации ReLU\n",
    "Для начала реализуем функцию активации, слой нелинейности `ReLU(x) = max(x, 0)`. Параметров у слоя нет. Метод `forward` должен вернуть результат поэлементного применения `ReLU` к входному массиву, метод `backward` - градиент функции потерь по входу слоя. В нуле будем считать производную равной 0. Обратите внимание, что при обратном проходе могут понадобиться величины, посчитанные во время прямого прохода, поэтому их стоит сохранить в `ctx`."
   ]
  },
  {
   "cell_type": "code",
   "execution_count": 18,
   "metadata": {
    "id": "U9qrJ47xY6H0"
   },
   "outputs": [],
   "source": [
    "class ReLUFunction(Function):\n",
    "    @staticmethod\n",
    "    def forward(ctx, input):\n",
    "                \n",
    "        ### YOUR CODE HERE\n",
    "        ### CALCULATE RELU FUNCTION WITH TORCH AND SAVE SOMETHING FOR BACKWARD VIA CTX\n",
    "\n",
    "    @staticmethod\n",
    "    def backward(ctx, grad_output):\n",
    "    \n",
    "        ### YOUR CODE HERE\n",
    "        ### GET SOMETHING FROM FORWARD AND CALCULATE GRADIENT\n",
    "        # CHECK LECTIONS OR GOOGLE\n",
    "        out = ... \n",
    "\n",
    "        return grad_output * out\n"
   ]
  },
  {
   "cell_type": "code",
   "execution_count": 19,
   "metadata": {
    "id": "y09ZVCsT86kT"
   },
   "outputs": [],
   "source": [
    "class ReLU(nn.Module):\n",
    "    def __init__(self):\n",
    "        \n",
    "        super().__init__()\n",
    "        self.relu = ReLUFunction.apply\n",
    "\n",
    "    def forward(self, input):\n",
    "\n",
    "        return self.relu(input)\n"
   ]
  },
  {
   "cell_type": "markdown",
   "metadata": {
    "id": "2RwKEUp_V3-L"
   },
   "source": [
    "Не забываем после реализации функции проверить градиент, испльзуя функцию `gradcheck`."
   ]
  },
  {
   "cell_type": "code",
   "execution_count": 20,
   "metadata": {
    "id": "K0RnDQZCXXZn"
   },
   "outputs": [],
   "source": [
    "torch.manual_seed(0)\n",
    "\n",
    "x = torch.rand((7,15), requires_grad = True, dtype=torch.double)\n",
    "relu = ReLU()\n",
    "\n",
    "assert gradcheck(relu, x)"
   ]
  },
  {
   "cell_type": "code",
   "execution_count": 21,
   "metadata": {
    "id": "vUmbmR4iXurd"
   },
   "outputs": [],
   "source": [
    "torch_relu = torch.relu\n",
    "our_relu = ReLU()\n",
    "\n",
    "assert torch.norm(torch_relu(x.float()) - our_relu(x)) < 1e-5"
   ]
  },
  {
   "cell_type": "markdown",
   "metadata": {
    "id": "ojTR4GFd86kY"
   },
   "source": [
    "### 2.2 Линейный слой (linear, fully-connected)\n",
    "Далее реализуем полносвязный слой без нелинейности. У слоя два набора параметра: матрица весов (weights) и вектор смещения (bias)."
   ]
  },
  {
   "cell_type": "code",
   "execution_count": 22,
   "metadata": {
    "id": "fBl34oykbcBf"
   },
   "outputs": [],
   "source": [
    "class LinearFunction(Function):\n",
    "    @staticmethod\n",
    "    def forward(ctx, inp, weight, bias):\n",
    "\n",
    "        ### YOUR CODE HERE\n",
    "        ### CALCULATE OUTPUT \n",
    "        ### AND SAVE SOMETHING FOR BACKWARD\n",
    "\n",
    "        return output\n",
    "\n",
    "    @staticmethod\n",
    "    def backward(ctx, grad_output):\n",
    "\n",
    "        # GET SOMETHING FROM BACKWARD\n",
    "\n",
    "        # CHECK HOW BACKWARD PERFORMED\n",
    "        grad_bias = grad_output.sum(0)\n",
    "        grad_weight = grad_output.T @ inp\n",
    "        grad_input =  grad_output @ weight \n",
    "\n",
    "\n",
    "        return grad_input, grad_weight, grad_bias"
   ]
  },
  {
   "cell_type": "code",
   "execution_count": 23,
   "metadata": {
    "id": "YbN5JOc886kZ"
   },
   "outputs": [],
   "source": [
    "class Linear(nn.Module):\n",
    "    def __init__(self, input_units, output_units):\n",
    "        super().__init__()\n",
    "\n",
    "        ### YOUR CODE HERE\n",
    "        ### initialize weights and bias with small random numbers or xavier\n",
    "        ### do not forget to make them torch.nn.Parameter \n",
    "\n",
    "        self.linear = LinearFunction.apply\n",
    "        \n",
    "    def forward(self,inp):\n",
    "        \n",
    "        return self.linear(inp, self.weight, self.bias)\n"
   ]
  },
  {
   "cell_type": "markdown",
   "metadata": {
    "id": "gToXI43WYMDv"
   },
   "source": [
    "Проверим градиент, а также сравним с работой нашего модуля с имплементированным в `PyTorch`. "
   ]
  },
  {
   "cell_type": "markdown",
   "metadata": {
    "id": "et7mKX5xZfMI"
   },
   "source": [
    "Проверка градиента:"
   ]
  },
  {
   "cell_type": "code",
   "execution_count": 24,
   "metadata": {
    "id": "PxLVozqLZb_H"
   },
   "outputs": [],
   "source": [
    "torch.manual_seed(0)\n",
    "\n",
    "x = torch.rand((6,12), requires_grad = True, dtype=torch.double)\n",
    "linear = Linear(12, 14)\n",
    "\n",
    "assert gradcheck(linear, x)"
   ]
  },
  {
   "cell_type": "markdown",
   "metadata": {
    "id": "pW8ppOciZndN"
   },
   "source": [
    "Сравнение с `PyTorch`. "
   ]
  },
  {
   "cell_type": "code",
   "execution_count": null,
   "metadata": {
    "colab": {
     "base_uri": "https://localhost:8080/"
    },
    "id": "IIR9svs7Zmq0",
    "outputId": "11f0d6db-980a-4696-d717-fb3766a5c36c"
   },
   "outputs": [],
   "source": [
    "output_units = 32\n",
    "input_units = 15\n",
    "\n",
    "x = torch.rand((16,15), requires_grad = True, dtype=torch.double)\n",
    "\n",
    "\n",
    "weight = torch.rand(size=(output_units, input_units), dtype=torch.double)\n",
    "bias = torch.rand(size=(output_units,), dtype=torch.double)\n",
    "\n",
    "torch_linear = torch.nn.Linear(input_units, output_units, dtype=torch.double)\n",
    "our_linear = Linear(input_units, output_units)\n",
    "\n",
    "\n",
    "state_dict = OrderedDict([(\"weight\", weight), (\"bias\", bias)])\n",
    "torch_linear.load_state_dict(state_dict)\n",
    "our_linear.load_state_dict(state_dict)\n",
    "\n",
    "\n",
    "\n",
    "torch_forward = torch_linear.forward(x)\n",
    "our_forward = our_linear(x)\n",
    "assert torch.allclose(torch_forward, our_forward)"
   ]
  },
  {
   "cell_type": "markdown",
   "metadata": {
    "id": "kmzKDpyE86lg"
   },
   "source": [
    "## 3. Сборка и обучение нейронной сети (5 баллов)"
   ]
  },
  {
   "cell_type": "markdown",
   "metadata": {
    "id": "mPqlZfj_86lg"
   },
   "source": [
    "Реализуйте произвольную нейросеть, состоящую из ваших блоков. Она должна состоять из нескольких полносвязанных слоев."
   ]
  },
  {
   "cell_type": "code",
   "execution_count": 33,
   "metadata": {
    "id": "tkESXVD87sM8"
   },
   "outputs": [],
   "source": [
    "class Network(nn.Module):\n",
    "    def __init__(self, input_size=28*28, hidden_layers_size=32, num_layers=5,\n",
    "                 num_classes=10):\n",
    "        super().__init__()\n",
    "        \n",
    "\n",
    "        ### YOUR CODE HERE\n",
    "        ### STACK LAYERS WITH DEFINED PARAMETERS\n",
    "        ### USE nn.Dropout, your linear, your relu and whatever you like\n",
    "        ### LAST LAYER SHOULD BE nn.LogSoftmax\n",
    "    def forward(self, inp):\n",
    "        \n",
    "        ### YOUR CODE HERE\n",
    "        ### APPLY YOUR NET TO THE INPUT\n"
   ]
  },
  {
   "cell_type": "markdown",
   "metadata": {
    "id": "Vj-eEvMFfbSo"
   },
   "source": [
    "Ниже вам предстоит написать цикл обучения. Сначала это бывает больно, но потом уже на автомате делается, в начале так всегда\n"
   ]
  },
  {
   "cell_type": "code",
   "execution_count": 34,
   "metadata": {
    "id": "vDhcoCB4OpXE"
   },
   "outputs": [],
   "source": [
    "class EmptyContext:\n",
    "    def __enter__(self):\n",
    "        pass\n",
    "    \n",
    "    def __exit__(self, *args):\n",
    "        pass"
   ]
  },
  {
   "cell_type": "code",
   "execution_count": 35,
   "metadata": {
    "id": "8AsWblqIOquI"
   },
   "outputs": [],
   "source": [
    "# accuract metric for our classififcation\n",
    "def accuracy(model_labels, labels):\n",
    "  return torch.mean((model_labels == labels).float())"
   ]
  },
  {
   "cell_type": "code",
   "execution_count": 36,
   "metadata": {
    "id": "Oy33FHuv_Us-"
   },
   "outputs": [],
   "source": [
    "def perform_epoch(model, loader, criterion, \n",
    "                optimizer=None, device=None):\n",
    "    is_train = optimizer is not None\n",
    "    ### YOUR CODE HERE\n",
    "    ### MOVE MODEL TO DEVICE\n",
    "    ### CHANGE MODEL TO TRAIN OR EVAL MODE\n",
    "\n",
    "    ### SET LOGGING VALUES\n",
    "    ### ITERATE OVER DATALOADER\n",
    "    ### MOVE BATCH AND LABELS TO DEVICE\n",
    "    ### GET MODEL OUTPUT\n",
    "    ### GET MODEL PREDICTIONS (from the probabilites)\n",
    "    ### CALCULATE LOSS\n",
    "    ### BACKWARD IF TRAIN \n",
    "    ### STEP WITH OPTIMIZER (DONT FORGET TO ZERO GRAD)\n",
    "    ### UPDATE LOGGING VALUES WITH LOSS AND ACCURACY\n",
    "    ### RETURN LOGGED VALUES"
   ]
  },
  {
   "cell_type": "markdown",
   "metadata": {
    "id": "FtamPEJZgOY5"
   },
   "source": [
    "Теперь обучим нашу нейронную сеть."
   ]
  },
  {
   "cell_type": "code",
   "execution_count": null,
   "metadata": {
    "id": "mEcyUJJI_aAn"
   },
   "outputs": [],
   "source": [
    "# INIT YOUR MODEL\n",
    "# CRITERION\n",
    "#  AND OPTIMIZER\n",
    "# Add device\n",
    "\n",
    "# SET NUMBER OF EPOCHS\n",
    "# ITERATE OVER NUMBERS OF EPOCH\n",
    "# TRAIN AND VALIDATE\n",
    "# LOG METRICS FOR TRAIN AND VAL LIKE BELOW. (YOU MAY USE YOUR OWN WAY)\n",
    "print(f\"Epoch - {epoch} : loss {loss}, accuracy {acc}\")\n"
   ]
  },
  {
   "cell_type": "markdown",
   "metadata": {
    "id": "WS41CQj0Y6Q8"
   },
   "source": [
    "Дальше:\n",
    "- Проведите эксперименты с числом слоев. \n",
    "- Постройте графики зависимости качества модели на тренировочной и тестовой выборках от числа слоев. Для получения статистически значимых результатов повторите эксперименты несколько раз.\n",
    "- Сделайте выводы. "
   ]
  },
  {
   "cell_type": "markdown",
   "metadata": {
    "id": "d3vcONKQ86mu"
   },
   "source": [
    "## 4. Бонусная часть."
   ]
  },
  {
   "cell_type": "markdown",
   "metadata": {
    "id": "Kuhxy7aW86mu"
   },
   "source": [
    "### 4.1 Реализация метода оптимизации (1 балл).\n",
    "Реализуйте сами метод оптимизации  для рассмотренной выше архитектуры. Вы можете выбрать произвольный метод от градиентного спуска до современных вариантов. Продемонстрируйте правильную работу метода оптимизации, сравните его работы с Adam. \n",
    "\n",
    "**Дополнительные баллы** вы получите, если метод будет уникален среди сдавших задание. "
   ]
  },
  {
   "cell_type": "code",
   "execution_count": null,
   "metadata": {
    "id": "GYMu0uF1p6o0"
   },
   "outputs": [],
   "source": [
    "class SotaOptimizer(Optimizer):\n",
    "    def __init__(self, params, lr=1e-3):\n",
    "        defaults = dict(lr=lr)\n",
    "        super(SotaOptimizer, self).__init__(params, defaults)\n",
    "\n",
    "    def __setstate__(self, state):\n",
    "        super(SotaOptimizer, self).__setstate__(state)\n",
    "\n",
    "    @torch.no_grad()\n",
    "    def step(self,):\n",
    "\n",
    "        for group in self.param_groups:\n",
    "            lr = group['lr']\n",
    "            for p in group['params']:\n",
    "                if p.grad is not None:\n",
    "                    p.data.add_(-lr*p.grad)"
   ]
  },
  {
   "cell_type": "markdown",
   "metadata": {
    "id": "d3aabYCykXL7"
   },
   "source": [
    "### 4.2 Реализация современной функции активации (1 балл).\n",
    "Реализуйте одну из современных функций активации. Например, `Hardswish` или `GELU`. Сравните сеть с вашей активацией и с `ReLU`. \n",
    "\n",
    "**Дополнительные баллы** вы получите, если функция будет уникальна среди сдавших задание. "
   ]
  }
 ],
 "metadata": {
  "accelerator": "GPU",
  "colab": {
   "collapsed_sections": [],
   "provenance": []
  },
  "kernelspec": {
   "display_name": "Python 3",
   "language": "python",
   "name": "python3"
  },
  "language_info": {
   "codemirror_mode": {
    "name": "ipython",
    "version": 3
   },
   "file_extension": ".py",
   "mimetype": "text/x-python",
   "name": "python",
   "nbconvert_exporter": "python",
   "pygments_lexer": "ipython3",
   "version": "3.7.16"
  },
  "vscode": {
   "interpreter": {
    "hash": "92d26938485ea6bea67bf2e2bb4662b06e39d7cc20cef26f940ca706eab939d3"
   }
  },
  "widgets": {
   "application/vnd.jupyter.widget-state+json": {
    "08bfb51f04644665b7c4a8f34aaf11ed": {
     "model_module": "@jupyter-widgets/controls",
     "model_module_version": "1.5.0",
     "model_name": "DescriptionStyleModel",
     "state": {
      "_model_module": "@jupyter-widgets/controls",
      "_model_module_version": "1.5.0",
      "_model_name": "DescriptionStyleModel",
      "_view_count": null,
      "_view_module": "@jupyter-widgets/base",
      "_view_module_version": "1.2.0",
      "_view_name": "StyleView",
      "description_width": ""
     }
    },
    "09f4c370cbab4527af52bc7307acd22f": {
     "model_module": "@jupyter-widgets/controls",
     "model_module_version": "1.5.0",
     "model_name": "FloatProgressModel",
     "state": {
      "_dom_classes": [],
      "_model_module": "@jupyter-widgets/controls",
      "_model_module_version": "1.5.0",
      "_model_name": "FloatProgressModel",
      "_view_count": null,
      "_view_module": "@jupyter-widgets/controls",
      "_view_module_version": "1.5.0",
      "_view_name": "ProgressView",
      "bar_style": "success",
      "description": "",
      "description_tooltip": null,
      "layout": "IPY_MODEL_6e9272ad1e874932bd97565c29e9a235",
      "max": 29515,
      "min": 0,
      "orientation": "horizontal",
      "style": "IPY_MODEL_26e4482c025f48e7a0afb1b1ba43b72e",
      "value": 29515
     }
    },
    "0c5754168cad4ab7a52d2d0e03042b4b": {
     "model_module": "@jupyter-widgets/base",
     "model_module_version": "1.2.0",
     "model_name": "LayoutModel",
     "state": {
      "_model_module": "@jupyter-widgets/base",
      "_model_module_version": "1.2.0",
      "_model_name": "LayoutModel",
      "_view_count": null,
      "_view_module": "@jupyter-widgets/base",
      "_view_module_version": "1.2.0",
      "_view_name": "LayoutView",
      "align_content": null,
      "align_items": null,
      "align_self": null,
      "border": null,
      "bottom": null,
      "display": null,
      "flex": null,
      "flex_flow": null,
      "grid_area": null,
      "grid_auto_columns": null,
      "grid_auto_flow": null,
      "grid_auto_rows": null,
      "grid_column": null,
      "grid_gap": null,
      "grid_row": null,
      "grid_template_areas": null,
      "grid_template_columns": null,
      "grid_template_rows": null,
      "height": null,
      "justify_content": null,
      "justify_items": null,
      "left": null,
      "margin": null,
      "max_height": null,
      "max_width": null,
      "min_height": null,
      "min_width": null,
      "object_fit": null,
      "object_position": null,
      "order": null,
      "overflow": null,
      "overflow_x": null,
      "overflow_y": null,
      "padding": null,
      "right": null,
      "top": null,
      "visibility": null,
      "width": null
     }
    },
    "0de923fa5ea24c91951eeaa1fa3983bb": {
     "model_module": "@jupyter-widgets/controls",
     "model_module_version": "1.5.0",
     "model_name": "HTMLModel",
     "state": {
      "_dom_classes": [],
      "_model_module": "@jupyter-widgets/controls",
      "_model_module_version": "1.5.0",
      "_model_name": "HTMLModel",
      "_view_count": null,
      "_view_module": "@jupyter-widgets/controls",
      "_view_module_version": "1.5.0",
      "_view_name": "HTMLView",
      "description": "",
      "description_tooltip": null,
      "layout": "IPY_MODEL_0c5754168cad4ab7a52d2d0e03042b4b",
      "placeholder": "​",
      "style": "IPY_MODEL_67aef52f7658414d83892a892de891ed",
      "value": " 4422102/4422102 [00:00&lt;00:00, 4236841.73it/s]"
     }
    },
    "1aa2df69fe494e0a83055ee8bef4c5a5": {
     "model_module": "@jupyter-widgets/controls",
     "model_module_version": "1.5.0",
     "model_name": "HBoxModel",
     "state": {
      "_dom_classes": [],
      "_model_module": "@jupyter-widgets/controls",
      "_model_module_version": "1.5.0",
      "_model_name": "HBoxModel",
      "_view_count": null,
      "_view_module": "@jupyter-widgets/controls",
      "_view_module_version": "1.5.0",
      "_view_name": "HBoxView",
      "box_style": "",
      "children": [
       "IPY_MODEL_cd9b578c73ac42488ff9809845ec5ad9",
       "IPY_MODEL_09f4c370cbab4527af52bc7307acd22f",
       "IPY_MODEL_d6c807c60f714f0c9eb450ad6471415c"
      ],
      "layout": "IPY_MODEL_c35705a99f6046f3b2e7d4da58c9dd8b"
     }
    },
    "25462a9b8018424fab4f2d161c9f6185": {
     "model_module": "@jupyter-widgets/base",
     "model_module_version": "1.2.0",
     "model_name": "LayoutModel",
     "state": {
      "_model_module": "@jupyter-widgets/base",
      "_model_module_version": "1.2.0",
      "_model_name": "LayoutModel",
      "_view_count": null,
      "_view_module": "@jupyter-widgets/base",
      "_view_module_version": "1.2.0",
      "_view_name": "LayoutView",
      "align_content": null,
      "align_items": null,
      "align_self": null,
      "border": null,
      "bottom": null,
      "display": null,
      "flex": null,
      "flex_flow": null,
      "grid_area": null,
      "grid_auto_columns": null,
      "grid_auto_flow": null,
      "grid_auto_rows": null,
      "grid_column": null,
      "grid_gap": null,
      "grid_row": null,
      "grid_template_areas": null,
      "grid_template_columns": null,
      "grid_template_rows": null,
      "height": null,
      "justify_content": null,
      "justify_items": null,
      "left": null,
      "margin": null,
      "max_height": null,
      "max_width": null,
      "min_height": null,
      "min_width": null,
      "object_fit": null,
      "object_position": null,
      "order": null,
      "overflow": null,
      "overflow_x": null,
      "overflow_y": null,
      "padding": null,
      "right": null,
      "top": null,
      "visibility": null,
      "width": null
     }
    },
    "25c397bc7ced46af94e5dbf104997da9": {
     "model_module": "@jupyter-widgets/controls",
     "model_module_version": "1.5.0",
     "model_name": "HTMLModel",
     "state": {
      "_dom_classes": [],
      "_model_module": "@jupyter-widgets/controls",
      "_model_module_version": "1.5.0",
      "_model_name": "HTMLModel",
      "_view_count": null,
      "_view_module": "@jupyter-widgets/controls",
      "_view_module_version": "1.5.0",
      "_view_name": "HTMLView",
      "description": "",
      "description_tooltip": null,
      "layout": "IPY_MODEL_eff07159fdc44dfe9ef0f1a7903f9aca",
      "placeholder": "​",
      "style": "IPY_MODEL_32998db33d104ea98b2cdb98add6240e",
      "value": "100%"
     }
    },
    "26e4482c025f48e7a0afb1b1ba43b72e": {
     "model_module": "@jupyter-widgets/controls",
     "model_module_version": "1.5.0",
     "model_name": "ProgressStyleModel",
     "state": {
      "_model_module": "@jupyter-widgets/controls",
      "_model_module_version": "1.5.0",
      "_model_name": "ProgressStyleModel",
      "_view_count": null,
      "_view_module": "@jupyter-widgets/base",
      "_view_module_version": "1.2.0",
      "_view_name": "StyleView",
      "bar_color": null,
      "description_width": ""
     }
    },
    "32998db33d104ea98b2cdb98add6240e": {
     "model_module": "@jupyter-widgets/controls",
     "model_module_version": "1.5.0",
     "model_name": "DescriptionStyleModel",
     "state": {
      "_model_module": "@jupyter-widgets/controls",
      "_model_module_version": "1.5.0",
      "_model_name": "DescriptionStyleModel",
      "_view_count": null,
      "_view_module": "@jupyter-widgets/base",
      "_view_module_version": "1.2.0",
      "_view_name": "StyleView",
      "description_width": ""
     }
    },
    "42b6532156284f62bc5d01ad55f869a3": {
     "model_module": "@jupyter-widgets/base",
     "model_module_version": "1.2.0",
     "model_name": "LayoutModel",
     "state": {
      "_model_module": "@jupyter-widgets/base",
      "_model_module_version": "1.2.0",
      "_model_name": "LayoutModel",
      "_view_count": null,
      "_view_module": "@jupyter-widgets/base",
      "_view_module_version": "1.2.0",
      "_view_name": "LayoutView",
      "align_content": null,
      "align_items": null,
      "align_self": null,
      "border": null,
      "bottom": null,
      "display": null,
      "flex": null,
      "flex_flow": null,
      "grid_area": null,
      "grid_auto_columns": null,
      "grid_auto_flow": null,
      "grid_auto_rows": null,
      "grid_column": null,
      "grid_gap": null,
      "grid_row": null,
      "grid_template_areas": null,
      "grid_template_columns": null,
      "grid_template_rows": null,
      "height": null,
      "justify_content": null,
      "justify_items": null,
      "left": null,
      "margin": null,
      "max_height": null,
      "max_width": null,
      "min_height": null,
      "min_width": null,
      "object_fit": null,
      "object_position": null,
      "order": null,
      "overflow": null,
      "overflow_x": null,
      "overflow_y": null,
      "padding": null,
      "right": null,
      "top": null,
      "visibility": null,
      "width": null
     }
    },
    "47770e8cc80b4634bf3849ea30a938bb": {
     "model_module": "@jupyter-widgets/base",
     "model_module_version": "1.2.0",
     "model_name": "LayoutModel",
     "state": {
      "_model_module": "@jupyter-widgets/base",
      "_model_module_version": "1.2.0",
      "_model_name": "LayoutModel",
      "_view_count": null,
      "_view_module": "@jupyter-widgets/base",
      "_view_module_version": "1.2.0",
      "_view_name": "LayoutView",
      "align_content": null,
      "align_items": null,
      "align_self": null,
      "border": null,
      "bottom": null,
      "display": null,
      "flex": null,
      "flex_flow": null,
      "grid_area": null,
      "grid_auto_columns": null,
      "grid_auto_flow": null,
      "grid_auto_rows": null,
      "grid_column": null,
      "grid_gap": null,
      "grid_row": null,
      "grid_template_areas": null,
      "grid_template_columns": null,
      "grid_template_rows": null,
      "height": null,
      "justify_content": null,
      "justify_items": null,
      "left": null,
      "margin": null,
      "max_height": null,
      "max_width": null,
      "min_height": null,
      "min_width": null,
      "object_fit": null,
      "object_position": null,
      "order": null,
      "overflow": null,
      "overflow_x": null,
      "overflow_y": null,
      "padding": null,
      "right": null,
      "top": null,
      "visibility": null,
      "width": null
     }
    },
    "49f052a7632247cba886cafce9ecba0a": {
     "model_module": "@jupyter-widgets/controls",
     "model_module_version": "1.5.0",
     "model_name": "ProgressStyleModel",
     "state": {
      "_model_module": "@jupyter-widgets/controls",
      "_model_module_version": "1.5.0",
      "_model_name": "ProgressStyleModel",
      "_view_count": null,
      "_view_module": "@jupyter-widgets/base",
      "_view_module_version": "1.2.0",
      "_view_name": "StyleView",
      "bar_color": null,
      "description_width": ""
     }
    },
    "4bbec0ef6fc74e27992a67194a9cb590": {
     "model_module": "@jupyter-widgets/base",
     "model_module_version": "1.2.0",
     "model_name": "LayoutModel",
     "state": {
      "_model_module": "@jupyter-widgets/base",
      "_model_module_version": "1.2.0",
      "_model_name": "LayoutModel",
      "_view_count": null,
      "_view_module": "@jupyter-widgets/base",
      "_view_module_version": "1.2.0",
      "_view_name": "LayoutView",
      "align_content": null,
      "align_items": null,
      "align_self": null,
      "border": null,
      "bottom": null,
      "display": null,
      "flex": null,
      "flex_flow": null,
      "grid_area": null,
      "grid_auto_columns": null,
      "grid_auto_flow": null,
      "grid_auto_rows": null,
      "grid_column": null,
      "grid_gap": null,
      "grid_row": null,
      "grid_template_areas": null,
      "grid_template_columns": null,
      "grid_template_rows": null,
      "height": null,
      "justify_content": null,
      "justify_items": null,
      "left": null,
      "margin": null,
      "max_height": null,
      "max_width": null,
      "min_height": null,
      "min_width": null,
      "object_fit": null,
      "object_position": null,
      "order": null,
      "overflow": null,
      "overflow_x": null,
      "overflow_y": null,
      "padding": null,
      "right": null,
      "top": null,
      "visibility": null,
      "width": null
     }
    },
    "5332626b0aa74f7ea94eb68088f5e7cb": {
     "model_module": "@jupyter-widgets/controls",
     "model_module_version": "1.5.0",
     "model_name": "HBoxModel",
     "state": {
      "_dom_classes": [],
      "_model_module": "@jupyter-widgets/controls",
      "_model_module_version": "1.5.0",
      "_model_name": "HBoxModel",
      "_view_count": null,
      "_view_module": "@jupyter-widgets/controls",
      "_view_module_version": "1.5.0",
      "_view_name": "HBoxView",
      "box_style": "",
      "children": [
       "IPY_MODEL_25c397bc7ced46af94e5dbf104997da9",
       "IPY_MODEL_b3dfe18b5a82446a995148658057e453",
       "IPY_MODEL_c73be1e35f7a40cebad168888e363608"
      ],
      "layout": "IPY_MODEL_5655977cf3e945bd9c3d0c5527093c6a"
     }
    },
    "5423d332e792479a9090c3901445d784": {
     "model_module": "@jupyter-widgets/controls",
     "model_module_version": "1.5.0",
     "model_name": "FloatProgressModel",
     "state": {
      "_dom_classes": [],
      "_model_module": "@jupyter-widgets/controls",
      "_model_module_version": "1.5.0",
      "_model_name": "FloatProgressModel",
      "_view_count": null,
      "_view_module": "@jupyter-widgets/controls",
      "_view_module_version": "1.5.0",
      "_view_name": "ProgressView",
      "bar_style": "success",
      "description": "",
      "description_tooltip": null,
      "layout": "IPY_MODEL_b10625e6b39f429899486b77493c4aa3",
      "max": 5148,
      "min": 0,
      "orientation": "horizontal",
      "style": "IPY_MODEL_49f052a7632247cba886cafce9ecba0a",
      "value": 5148
     }
    },
    "5655977cf3e945bd9c3d0c5527093c6a": {
     "model_module": "@jupyter-widgets/base",
     "model_module_version": "1.2.0",
     "model_name": "LayoutModel",
     "state": {
      "_model_module": "@jupyter-widgets/base",
      "_model_module_version": "1.2.0",
      "_model_name": "LayoutModel",
      "_view_count": null,
      "_view_module": "@jupyter-widgets/base",
      "_view_module_version": "1.2.0",
      "_view_name": "LayoutView",
      "align_content": null,
      "align_items": null,
      "align_self": null,
      "border": null,
      "bottom": null,
      "display": null,
      "flex": null,
      "flex_flow": null,
      "grid_area": null,
      "grid_auto_columns": null,
      "grid_auto_flow": null,
      "grid_auto_rows": null,
      "grid_column": null,
      "grid_gap": null,
      "grid_row": null,
      "grid_template_areas": null,
      "grid_template_columns": null,
      "grid_template_rows": null,
      "height": null,
      "justify_content": null,
      "justify_items": null,
      "left": null,
      "margin": null,
      "max_height": null,
      "max_width": null,
      "min_height": null,
      "min_width": null,
      "object_fit": null,
      "object_position": null,
      "order": null,
      "overflow": null,
      "overflow_x": null,
      "overflow_y": null,
      "padding": null,
      "right": null,
      "top": null,
      "visibility": null,
      "width": null
     }
    },
    "5bf99ef9a3564a52b68e5a216612a36e": {
     "model_module": "@jupyter-widgets/controls",
     "model_module_version": "1.5.0",
     "model_name": "HTMLModel",
     "state": {
      "_dom_classes": [],
      "_model_module": "@jupyter-widgets/controls",
      "_model_module_version": "1.5.0",
      "_model_name": "HTMLModel",
      "_view_count": null,
      "_view_module": "@jupyter-widgets/controls",
      "_view_module_version": "1.5.0",
      "_view_name": "HTMLView",
      "description": "",
      "description_tooltip": null,
      "layout": "IPY_MODEL_6e3f7ff0ba5642f89f4651803ac49422",
      "placeholder": "​",
      "style": "IPY_MODEL_08bfb51f04644665b7c4a8f34aaf11ed",
      "value": "100%"
     }
    },
    "6372150abfb049e8a4bdf2d5d4874c2f": {
     "model_module": "@jupyter-widgets/controls",
     "model_module_version": "1.5.0",
     "model_name": "DescriptionStyleModel",
     "state": {
      "_model_module": "@jupyter-widgets/controls",
      "_model_module_version": "1.5.0",
      "_model_name": "DescriptionStyleModel",
      "_view_count": null,
      "_view_module": "@jupyter-widgets/base",
      "_view_module_version": "1.2.0",
      "_view_name": "StyleView",
      "description_width": ""
     }
    },
    "6594e038a3ff4375abc7dd9cd41c3877": {
     "model_module": "@jupyter-widgets/controls",
     "model_module_version": "1.5.0",
     "model_name": "HTMLModel",
     "state": {
      "_dom_classes": [],
      "_model_module": "@jupyter-widgets/controls",
      "_model_module_version": "1.5.0",
      "_model_name": "HTMLModel",
      "_view_count": null,
      "_view_module": "@jupyter-widgets/controls",
      "_view_module_version": "1.5.0",
      "_view_name": "HTMLView",
      "description": "",
      "description_tooltip": null,
      "layout": "IPY_MODEL_bb324c8763734f878f15db6da9d63f99",
      "placeholder": "​",
      "style": "IPY_MODEL_7dc147c7f1cf48198b5e045eb6e8875c",
      "value": "100%"
     }
    },
    "67aef52f7658414d83892a892de891ed": {
     "model_module": "@jupyter-widgets/controls",
     "model_module_version": "1.5.0",
     "model_name": "DescriptionStyleModel",
     "state": {
      "_model_module": "@jupyter-widgets/controls",
      "_model_module_version": "1.5.0",
      "_model_name": "DescriptionStyleModel",
      "_view_count": null,
      "_view_module": "@jupyter-widgets/base",
      "_view_module_version": "1.2.0",
      "_view_name": "StyleView",
      "description_width": ""
     }
    },
    "6e3f7ff0ba5642f89f4651803ac49422": {
     "model_module": "@jupyter-widgets/base",
     "model_module_version": "1.2.0",
     "model_name": "LayoutModel",
     "state": {
      "_model_module": "@jupyter-widgets/base",
      "_model_module_version": "1.2.0",
      "_model_name": "LayoutModel",
      "_view_count": null,
      "_view_module": "@jupyter-widgets/base",
      "_view_module_version": "1.2.0",
      "_view_name": "LayoutView",
      "align_content": null,
      "align_items": null,
      "align_self": null,
      "border": null,
      "bottom": null,
      "display": null,
      "flex": null,
      "flex_flow": null,
      "grid_area": null,
      "grid_auto_columns": null,
      "grid_auto_flow": null,
      "grid_auto_rows": null,
      "grid_column": null,
      "grid_gap": null,
      "grid_row": null,
      "grid_template_areas": null,
      "grid_template_columns": null,
      "grid_template_rows": null,
      "height": null,
      "justify_content": null,
      "justify_items": null,
      "left": null,
      "margin": null,
      "max_height": null,
      "max_width": null,
      "min_height": null,
      "min_width": null,
      "object_fit": null,
      "object_position": null,
      "order": null,
      "overflow": null,
      "overflow_x": null,
      "overflow_y": null,
      "padding": null,
      "right": null,
      "top": null,
      "visibility": null,
      "width": null
     }
    },
    "6e9272ad1e874932bd97565c29e9a235": {
     "model_module": "@jupyter-widgets/base",
     "model_module_version": "1.2.0",
     "model_name": "LayoutModel",
     "state": {
      "_model_module": "@jupyter-widgets/base",
      "_model_module_version": "1.2.0",
      "_model_name": "LayoutModel",
      "_view_count": null,
      "_view_module": "@jupyter-widgets/base",
      "_view_module_version": "1.2.0",
      "_view_name": "LayoutView",
      "align_content": null,
      "align_items": null,
      "align_self": null,
      "border": null,
      "bottom": null,
      "display": null,
      "flex": null,
      "flex_flow": null,
      "grid_area": null,
      "grid_auto_columns": null,
      "grid_auto_flow": null,
      "grid_auto_rows": null,
      "grid_column": null,
      "grid_gap": null,
      "grid_row": null,
      "grid_template_areas": null,
      "grid_template_columns": null,
      "grid_template_rows": null,
      "height": null,
      "justify_content": null,
      "justify_items": null,
      "left": null,
      "margin": null,
      "max_height": null,
      "max_width": null,
      "min_height": null,
      "min_width": null,
      "object_fit": null,
      "object_position": null,
      "order": null,
      "overflow": null,
      "overflow_x": null,
      "overflow_y": null,
      "padding": null,
      "right": null,
      "top": null,
      "visibility": null,
      "width": null
     }
    },
    "70456b9d925a4f34a4cb0fe462fb1fdb": {
     "model_module": "@jupyter-widgets/base",
     "model_module_version": "1.2.0",
     "model_name": "LayoutModel",
     "state": {
      "_model_module": "@jupyter-widgets/base",
      "_model_module_version": "1.2.0",
      "_model_name": "LayoutModel",
      "_view_count": null,
      "_view_module": "@jupyter-widgets/base",
      "_view_module_version": "1.2.0",
      "_view_name": "LayoutView",
      "align_content": null,
      "align_items": null,
      "align_self": null,
      "border": null,
      "bottom": null,
      "display": null,
      "flex": null,
      "flex_flow": null,
      "grid_area": null,
      "grid_auto_columns": null,
      "grid_auto_flow": null,
      "grid_auto_rows": null,
      "grid_column": null,
      "grid_gap": null,
      "grid_row": null,
      "grid_template_areas": null,
      "grid_template_columns": null,
      "grid_template_rows": null,
      "height": null,
      "justify_content": null,
      "justify_items": null,
      "left": null,
      "margin": null,
      "max_height": null,
      "max_width": null,
      "min_height": null,
      "min_width": null,
      "object_fit": null,
      "object_position": null,
      "order": null,
      "overflow": null,
      "overflow_x": null,
      "overflow_y": null,
      "padding": null,
      "right": null,
      "top": null,
      "visibility": null,
      "width": null
     }
    },
    "7726fd927d8f457fa4c41529d37ba935": {
     "model_module": "@jupyter-widgets/controls",
     "model_module_version": "1.5.0",
     "model_name": "ProgressStyleModel",
     "state": {
      "_model_module": "@jupyter-widgets/controls",
      "_model_module_version": "1.5.0",
      "_model_name": "ProgressStyleModel",
      "_view_count": null,
      "_view_module": "@jupyter-widgets/base",
      "_view_module_version": "1.2.0",
      "_view_name": "StyleView",
      "bar_color": null,
      "description_width": ""
     }
    },
    "7dc147c7f1cf48198b5e045eb6e8875c": {
     "model_module": "@jupyter-widgets/controls",
     "model_module_version": "1.5.0",
     "model_name": "DescriptionStyleModel",
     "state": {
      "_model_module": "@jupyter-widgets/controls",
      "_model_module_version": "1.5.0",
      "_model_name": "DescriptionStyleModel",
      "_view_count": null,
      "_view_module": "@jupyter-widgets/base",
      "_view_module_version": "1.2.0",
      "_view_name": "StyleView",
      "description_width": ""
     }
    },
    "825d937a6d0c4ba7b5ba61f41b2b696a": {
     "model_module": "@jupyter-widgets/controls",
     "model_module_version": "1.5.0",
     "model_name": "FloatProgressModel",
     "state": {
      "_dom_classes": [],
      "_model_module": "@jupyter-widgets/controls",
      "_model_module_version": "1.5.0",
      "_model_name": "FloatProgressModel",
      "_view_count": null,
      "_view_module": "@jupyter-widgets/controls",
      "_view_module_version": "1.5.0",
      "_view_name": "ProgressView",
      "bar_style": "success",
      "description": "",
      "description_tooltip": null,
      "layout": "IPY_MODEL_25462a9b8018424fab4f2d161c9f6185",
      "max": 4422102,
      "min": 0,
      "orientation": "horizontal",
      "style": "IPY_MODEL_fc034bebd3bd481abe0af10db29aa5df",
      "value": 4422102
     }
    },
    "9bec8a71db474d72aaebf6964f5c7467": {
     "model_module": "@jupyter-widgets/controls",
     "model_module_version": "1.5.0",
     "model_name": "HBoxModel",
     "state": {
      "_dom_classes": [],
      "_model_module": "@jupyter-widgets/controls",
      "_model_module_version": "1.5.0",
      "_model_name": "HBoxModel",
      "_view_count": null,
      "_view_module": "@jupyter-widgets/controls",
      "_view_module_version": "1.5.0",
      "_view_name": "HBoxView",
      "box_style": "",
      "children": [
       "IPY_MODEL_5bf99ef9a3564a52b68e5a216612a36e",
       "IPY_MODEL_5423d332e792479a9090c3901445d784",
       "IPY_MODEL_ff41ac0f01aa40c58c9d4d9bd4ebb61e"
      ],
      "layout": "IPY_MODEL_47770e8cc80b4634bf3849ea30a938bb"
     }
    },
    "9e66f8defa1e4e78878921fd778a215f": {
     "model_module": "@jupyter-widgets/controls",
     "model_module_version": "1.5.0",
     "model_name": "DescriptionStyleModel",
     "state": {
      "_model_module": "@jupyter-widgets/controls",
      "_model_module_version": "1.5.0",
      "_model_name": "DescriptionStyleModel",
      "_view_count": null,
      "_view_module": "@jupyter-widgets/base",
      "_view_module_version": "1.2.0",
      "_view_name": "StyleView",
      "description_width": ""
     }
    },
    "a307d315300b4eb38d486169188519de": {
     "model_module": "@jupyter-widgets/base",
     "model_module_version": "1.2.0",
     "model_name": "LayoutModel",
     "state": {
      "_model_module": "@jupyter-widgets/base",
      "_model_module_version": "1.2.0",
      "_model_name": "LayoutModel",
      "_view_count": null,
      "_view_module": "@jupyter-widgets/base",
      "_view_module_version": "1.2.0",
      "_view_name": "LayoutView",
      "align_content": null,
      "align_items": null,
      "align_self": null,
      "border": null,
      "bottom": null,
      "display": null,
      "flex": null,
      "flex_flow": null,
      "grid_area": null,
      "grid_auto_columns": null,
      "grid_auto_flow": null,
      "grid_auto_rows": null,
      "grid_column": null,
      "grid_gap": null,
      "grid_row": null,
      "grid_template_areas": null,
      "grid_template_columns": null,
      "grid_template_rows": null,
      "height": null,
      "justify_content": null,
      "justify_items": null,
      "left": null,
      "margin": null,
      "max_height": null,
      "max_width": null,
      "min_height": null,
      "min_width": null,
      "object_fit": null,
      "object_position": null,
      "order": null,
      "overflow": null,
      "overflow_x": null,
      "overflow_y": null,
      "padding": null,
      "right": null,
      "top": null,
      "visibility": null,
      "width": null
     }
    },
    "a4cb5b7f1937432580de1a75c34ae6cb": {
     "model_module": "@jupyter-widgets/base",
     "model_module_version": "1.2.0",
     "model_name": "LayoutModel",
     "state": {
      "_model_module": "@jupyter-widgets/base",
      "_model_module_version": "1.2.0",
      "_model_name": "LayoutModel",
      "_view_count": null,
      "_view_module": "@jupyter-widgets/base",
      "_view_module_version": "1.2.0",
      "_view_name": "LayoutView",
      "align_content": null,
      "align_items": null,
      "align_self": null,
      "border": null,
      "bottom": null,
      "display": null,
      "flex": null,
      "flex_flow": null,
      "grid_area": null,
      "grid_auto_columns": null,
      "grid_auto_flow": null,
      "grid_auto_rows": null,
      "grid_column": null,
      "grid_gap": null,
      "grid_row": null,
      "grid_template_areas": null,
      "grid_template_columns": null,
      "grid_template_rows": null,
      "height": null,
      "justify_content": null,
      "justify_items": null,
      "left": null,
      "margin": null,
      "max_height": null,
      "max_width": null,
      "min_height": null,
      "min_width": null,
      "object_fit": null,
      "object_position": null,
      "order": null,
      "overflow": null,
      "overflow_x": null,
      "overflow_y": null,
      "padding": null,
      "right": null,
      "top": null,
      "visibility": null,
      "width": null
     }
    },
    "aaf257ec2c9f4c6f8e3e13cd4b84b842": {
     "model_module": "@jupyter-widgets/controls",
     "model_module_version": "1.5.0",
     "model_name": "DescriptionStyleModel",
     "state": {
      "_model_module": "@jupyter-widgets/controls",
      "_model_module_version": "1.5.0",
      "_model_name": "DescriptionStyleModel",
      "_view_count": null,
      "_view_module": "@jupyter-widgets/base",
      "_view_module_version": "1.2.0",
      "_view_name": "StyleView",
      "description_width": ""
     }
    },
    "b10625e6b39f429899486b77493c4aa3": {
     "model_module": "@jupyter-widgets/base",
     "model_module_version": "1.2.0",
     "model_name": "LayoutModel",
     "state": {
      "_model_module": "@jupyter-widgets/base",
      "_model_module_version": "1.2.0",
      "_model_name": "LayoutModel",
      "_view_count": null,
      "_view_module": "@jupyter-widgets/base",
      "_view_module_version": "1.2.0",
      "_view_name": "LayoutView",
      "align_content": null,
      "align_items": null,
      "align_self": null,
      "border": null,
      "bottom": null,
      "display": null,
      "flex": null,
      "flex_flow": null,
      "grid_area": null,
      "grid_auto_columns": null,
      "grid_auto_flow": null,
      "grid_auto_rows": null,
      "grid_column": null,
      "grid_gap": null,
      "grid_row": null,
      "grid_template_areas": null,
      "grid_template_columns": null,
      "grid_template_rows": null,
      "height": null,
      "justify_content": null,
      "justify_items": null,
      "left": null,
      "margin": null,
      "max_height": null,
      "max_width": null,
      "min_height": null,
      "min_width": null,
      "object_fit": null,
      "object_position": null,
      "order": null,
      "overflow": null,
      "overflow_x": null,
      "overflow_y": null,
      "padding": null,
      "right": null,
      "top": null,
      "visibility": null,
      "width": null
     }
    },
    "b3dfe18b5a82446a995148658057e453": {
     "model_module": "@jupyter-widgets/controls",
     "model_module_version": "1.5.0",
     "model_name": "FloatProgressModel",
     "state": {
      "_dom_classes": [],
      "_model_module": "@jupyter-widgets/controls",
      "_model_module_version": "1.5.0",
      "_model_name": "FloatProgressModel",
      "_view_count": null,
      "_view_module": "@jupyter-widgets/controls",
      "_view_module_version": "1.5.0",
      "_view_name": "ProgressView",
      "bar_style": "success",
      "description": "",
      "description_tooltip": null,
      "layout": "IPY_MODEL_4bbec0ef6fc74e27992a67194a9cb590",
      "max": 26421880,
      "min": 0,
      "orientation": "horizontal",
      "style": "IPY_MODEL_7726fd927d8f457fa4c41529d37ba935",
      "value": 26421880
     }
    },
    "bb324c8763734f878f15db6da9d63f99": {
     "model_module": "@jupyter-widgets/base",
     "model_module_version": "1.2.0",
     "model_name": "LayoutModel",
     "state": {
      "_model_module": "@jupyter-widgets/base",
      "_model_module_version": "1.2.0",
      "_model_name": "LayoutModel",
      "_view_count": null,
      "_view_module": "@jupyter-widgets/base",
      "_view_module_version": "1.2.0",
      "_view_name": "LayoutView",
      "align_content": null,
      "align_items": null,
      "align_self": null,
      "border": null,
      "bottom": null,
      "display": null,
      "flex": null,
      "flex_flow": null,
      "grid_area": null,
      "grid_auto_columns": null,
      "grid_auto_flow": null,
      "grid_auto_rows": null,
      "grid_column": null,
      "grid_gap": null,
      "grid_row": null,
      "grid_template_areas": null,
      "grid_template_columns": null,
      "grid_template_rows": null,
      "height": null,
      "justify_content": null,
      "justify_items": null,
      "left": null,
      "margin": null,
      "max_height": null,
      "max_width": null,
      "min_height": null,
      "min_width": null,
      "object_fit": null,
      "object_position": null,
      "order": null,
      "overflow": null,
      "overflow_x": null,
      "overflow_y": null,
      "padding": null,
      "right": null,
      "top": null,
      "visibility": null,
      "width": null
     }
    },
    "be8602c27f1a41f3a3012f2d0f460870": {
     "model_module": "@jupyter-widgets/controls",
     "model_module_version": "1.5.0",
     "model_name": "HBoxModel",
     "state": {
      "_dom_classes": [],
      "_model_module": "@jupyter-widgets/controls",
      "_model_module_version": "1.5.0",
      "_model_name": "HBoxModel",
      "_view_count": null,
      "_view_module": "@jupyter-widgets/controls",
      "_view_module_version": "1.5.0",
      "_view_name": "HBoxView",
      "box_style": "",
      "children": [
       "IPY_MODEL_6594e038a3ff4375abc7dd9cd41c3877",
       "IPY_MODEL_825d937a6d0c4ba7b5ba61f41b2b696a",
       "IPY_MODEL_0de923fa5ea24c91951eeaa1fa3983bb"
      ],
      "layout": "IPY_MODEL_a307d315300b4eb38d486169188519de"
     }
    },
    "c35705a99f6046f3b2e7d4da58c9dd8b": {
     "model_module": "@jupyter-widgets/base",
     "model_module_version": "1.2.0",
     "model_name": "LayoutModel",
     "state": {
      "_model_module": "@jupyter-widgets/base",
      "_model_module_version": "1.2.0",
      "_model_name": "LayoutModel",
      "_view_count": null,
      "_view_module": "@jupyter-widgets/base",
      "_view_module_version": "1.2.0",
      "_view_name": "LayoutView",
      "align_content": null,
      "align_items": null,
      "align_self": null,
      "border": null,
      "bottom": null,
      "display": null,
      "flex": null,
      "flex_flow": null,
      "grid_area": null,
      "grid_auto_columns": null,
      "grid_auto_flow": null,
      "grid_auto_rows": null,
      "grid_column": null,
      "grid_gap": null,
      "grid_row": null,
      "grid_template_areas": null,
      "grid_template_columns": null,
      "grid_template_rows": null,
      "height": null,
      "justify_content": null,
      "justify_items": null,
      "left": null,
      "margin": null,
      "max_height": null,
      "max_width": null,
      "min_height": null,
      "min_width": null,
      "object_fit": null,
      "object_position": null,
      "order": null,
      "overflow": null,
      "overflow_x": null,
      "overflow_y": null,
      "padding": null,
      "right": null,
      "top": null,
      "visibility": null,
      "width": null
     }
    },
    "c73be1e35f7a40cebad168888e363608": {
     "model_module": "@jupyter-widgets/controls",
     "model_module_version": "1.5.0",
     "model_name": "HTMLModel",
     "state": {
      "_dom_classes": [],
      "_model_module": "@jupyter-widgets/controls",
      "_model_module_version": "1.5.0",
      "_model_name": "HTMLModel",
      "_view_count": null,
      "_view_module": "@jupyter-widgets/controls",
      "_view_module_version": "1.5.0",
      "_view_name": "HTMLView",
      "description": "",
      "description_tooltip": null,
      "layout": "IPY_MODEL_42b6532156284f62bc5d01ad55f869a3",
      "placeholder": "​",
      "style": "IPY_MODEL_f1ae8a46de67411abafdcf61a1771fff",
      "value": " 26421880/26421880 [00:01&lt;00:00, 29869941.86it/s]"
     }
    },
    "cd9b578c73ac42488ff9809845ec5ad9": {
     "model_module": "@jupyter-widgets/controls",
     "model_module_version": "1.5.0",
     "model_name": "HTMLModel",
     "state": {
      "_dom_classes": [],
      "_model_module": "@jupyter-widgets/controls",
      "_model_module_version": "1.5.0",
      "_model_name": "HTMLModel",
      "_view_count": null,
      "_view_module": "@jupyter-widgets/controls",
      "_view_module_version": "1.5.0",
      "_view_name": "HTMLView",
      "description": "",
      "description_tooltip": null,
      "layout": "IPY_MODEL_70456b9d925a4f34a4cb0fe462fb1fdb",
      "placeholder": "​",
      "style": "IPY_MODEL_aaf257ec2c9f4c6f8e3e13cd4b84b842",
      "value": "100%"
     }
    },
    "d6c807c60f714f0c9eb450ad6471415c": {
     "model_module": "@jupyter-widgets/controls",
     "model_module_version": "1.5.0",
     "model_name": "HTMLModel",
     "state": {
      "_dom_classes": [],
      "_model_module": "@jupyter-widgets/controls",
      "_model_module_version": "1.5.0",
      "_model_name": "HTMLModel",
      "_view_count": null,
      "_view_module": "@jupyter-widgets/controls",
      "_view_module_version": "1.5.0",
      "_view_name": "HTMLView",
      "description": "",
      "description_tooltip": null,
      "layout": "IPY_MODEL_db272c9d867d432f88c1a6a30da780ae",
      "placeholder": "​",
      "style": "IPY_MODEL_6372150abfb049e8a4bdf2d5d4874c2f",
      "value": " 29515/29515 [00:00&lt;00:00, 327010.04it/s]"
     }
    },
    "db272c9d867d432f88c1a6a30da780ae": {
     "model_module": "@jupyter-widgets/base",
     "model_module_version": "1.2.0",
     "model_name": "LayoutModel",
     "state": {
      "_model_module": "@jupyter-widgets/base",
      "_model_module_version": "1.2.0",
      "_model_name": "LayoutModel",
      "_view_count": null,
      "_view_module": "@jupyter-widgets/base",
      "_view_module_version": "1.2.0",
      "_view_name": "LayoutView",
      "align_content": null,
      "align_items": null,
      "align_self": null,
      "border": null,
      "bottom": null,
      "display": null,
      "flex": null,
      "flex_flow": null,
      "grid_area": null,
      "grid_auto_columns": null,
      "grid_auto_flow": null,
      "grid_auto_rows": null,
      "grid_column": null,
      "grid_gap": null,
      "grid_row": null,
      "grid_template_areas": null,
      "grid_template_columns": null,
      "grid_template_rows": null,
      "height": null,
      "justify_content": null,
      "justify_items": null,
      "left": null,
      "margin": null,
      "max_height": null,
      "max_width": null,
      "min_height": null,
      "min_width": null,
      "object_fit": null,
      "object_position": null,
      "order": null,
      "overflow": null,
      "overflow_x": null,
      "overflow_y": null,
      "padding": null,
      "right": null,
      "top": null,
      "visibility": null,
      "width": null
     }
    },
    "eff07159fdc44dfe9ef0f1a7903f9aca": {
     "model_module": "@jupyter-widgets/base",
     "model_module_version": "1.2.0",
     "model_name": "LayoutModel",
     "state": {
      "_model_module": "@jupyter-widgets/base",
      "_model_module_version": "1.2.0",
      "_model_name": "LayoutModel",
      "_view_count": null,
      "_view_module": "@jupyter-widgets/base",
      "_view_module_version": "1.2.0",
      "_view_name": "LayoutView",
      "align_content": null,
      "align_items": null,
      "align_self": null,
      "border": null,
      "bottom": null,
      "display": null,
      "flex": null,
      "flex_flow": null,
      "grid_area": null,
      "grid_auto_columns": null,
      "grid_auto_flow": null,
      "grid_auto_rows": null,
      "grid_column": null,
      "grid_gap": null,
      "grid_row": null,
      "grid_template_areas": null,
      "grid_template_columns": null,
      "grid_template_rows": null,
      "height": null,
      "justify_content": null,
      "justify_items": null,
      "left": null,
      "margin": null,
      "max_height": null,
      "max_width": null,
      "min_height": null,
      "min_width": null,
      "object_fit": null,
      "object_position": null,
      "order": null,
      "overflow": null,
      "overflow_x": null,
      "overflow_y": null,
      "padding": null,
      "right": null,
      "top": null,
      "visibility": null,
      "width": null
     }
    },
    "f1ae8a46de67411abafdcf61a1771fff": {
     "model_module": "@jupyter-widgets/controls",
     "model_module_version": "1.5.0",
     "model_name": "DescriptionStyleModel",
     "state": {
      "_model_module": "@jupyter-widgets/controls",
      "_model_module_version": "1.5.0",
      "_model_name": "DescriptionStyleModel",
      "_view_count": null,
      "_view_module": "@jupyter-widgets/base",
      "_view_module_version": "1.2.0",
      "_view_name": "StyleView",
      "description_width": ""
     }
    },
    "fc034bebd3bd481abe0af10db29aa5df": {
     "model_module": "@jupyter-widgets/controls",
     "model_module_version": "1.5.0",
     "model_name": "ProgressStyleModel",
     "state": {
      "_model_module": "@jupyter-widgets/controls",
      "_model_module_version": "1.5.0",
      "_model_name": "ProgressStyleModel",
      "_view_count": null,
      "_view_module": "@jupyter-widgets/base",
      "_view_module_version": "1.2.0",
      "_view_name": "StyleView",
      "bar_color": null,
      "description_width": ""
     }
    },
    "ff41ac0f01aa40c58c9d4d9bd4ebb61e": {
     "model_module": "@jupyter-widgets/controls",
     "model_module_version": "1.5.0",
     "model_name": "HTMLModel",
     "state": {
      "_dom_classes": [],
      "_model_module": "@jupyter-widgets/controls",
      "_model_module_version": "1.5.0",
      "_model_name": "HTMLModel",
      "_view_count": null,
      "_view_module": "@jupyter-widgets/controls",
      "_view_module_version": "1.5.0",
      "_view_name": "HTMLView",
      "description": "",
      "description_tooltip": null,
      "layout": "IPY_MODEL_a4cb5b7f1937432580de1a75c34ae6cb",
      "placeholder": "​",
      "style": "IPY_MODEL_9e66f8defa1e4e78878921fd778a215f",
      "value": " 5148/5148 [00:00&lt;00:00, 158391.73it/s]"
     }
    }
   }
  }
 },
 "nbformat": 4,
 "nbformat_minor": 1
}
